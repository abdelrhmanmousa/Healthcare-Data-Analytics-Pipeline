{
 "cells": [
  {
   "cell_type": "code",
   "execution_count": 3,
   "id": "136caf27",
   "metadata": {},
   "outputs": [],
   "source": [
    "import pandas as pd\n",
    "import pyarrow as pa\n",
    "import pyarrow.parquet as pq"
   ]
  },
  {
   "cell_type": "code",
   "execution_count": 7,
   "id": "c2b470e8",
   "metadata": {},
   "outputs": [
    {
     "data": {
      "text/html": [
       "<div>\n",
       "<style scoped>\n",
       "    .dataframe tbody tr th:only-of-type {\n",
       "        vertical-align: middle;\n",
       "    }\n",
       "\n",
       "    .dataframe tbody tr th {\n",
       "        vertical-align: top;\n",
       "    }\n",
       "\n",
       "    .dataframe thead th {\n",
       "        text-align: right;\n",
       "    }\n",
       "</style>\n",
       "<table border=\"1\" class=\"dataframe\">\n",
       "  <thead>\n",
       "    <tr style=\"text-align: right;\">\n",
       "      <th></th>\n",
       "      <th>row_id</th>\n",
       "      <th>subject_id</th>\n",
       "      <th>hadm_id</th>\n",
       "      <th>itemid</th>\n",
       "      <th>charttime</th>\n",
       "      <th>value</th>\n",
       "      <th>valuenum</th>\n",
       "      <th>valueuom</th>\n",
       "      <th>flag</th>\n",
       "    </tr>\n",
       "  </thead>\n",
       "  <tbody>\n",
       "    <tr>\n",
       "      <th>76064</th>\n",
       "      <td>20452674</td>\n",
       "      <td>44228</td>\n",
       "      <td>103379.0</td>\n",
       "      <td>51301</td>\n",
       "      <td>2170-12-23 04:36:00</td>\n",
       "      <td>16.8</td>\n",
       "      <td>16.80</td>\n",
       "      <td>K/uL</td>\n",
       "      <td>abnormal</td>\n",
       "    </tr>\n",
       "    <tr>\n",
       "      <th>76065</th>\n",
       "      <td>20452675</td>\n",
       "      <td>44228</td>\n",
       "      <td>103379.0</td>\n",
       "      <td>51221</td>\n",
       "      <td>2170-12-24 04:09:00</td>\n",
       "      <td>24.2</td>\n",
       "      <td>24.20</td>\n",
       "      <td>%</td>\n",
       "      <td>abnormal</td>\n",
       "    </tr>\n",
       "    <tr>\n",
       "      <th>76066</th>\n",
       "      <td>20452676</td>\n",
       "      <td>44228</td>\n",
       "      <td>103379.0</td>\n",
       "      <td>51222</td>\n",
       "      <td>2170-12-24 04:09:00</td>\n",
       "      <td>8.3</td>\n",
       "      <td>8.30</td>\n",
       "      <td>g/dL</td>\n",
       "      <td>abnormal</td>\n",
       "    </tr>\n",
       "    <tr>\n",
       "      <th>76067</th>\n",
       "      <td>20452677</td>\n",
       "      <td>44228</td>\n",
       "      <td>103379.0</td>\n",
       "      <td>51248</td>\n",
       "      <td>2170-12-24 04:09:00</td>\n",
       "      <td>30.2</td>\n",
       "      <td>30.20</td>\n",
       "      <td>pg</td>\n",
       "      <td>NaN</td>\n",
       "    </tr>\n",
       "    <tr>\n",
       "      <th>76068</th>\n",
       "      <td>20452678</td>\n",
       "      <td>44228</td>\n",
       "      <td>103379.0</td>\n",
       "      <td>51249</td>\n",
       "      <td>2170-12-24 04:09:00</td>\n",
       "      <td>34.4</td>\n",
       "      <td>34.40</td>\n",
       "      <td>%</td>\n",
       "      <td>NaN</td>\n",
       "    </tr>\n",
       "    <tr>\n",
       "      <th>76069</th>\n",
       "      <td>20452679</td>\n",
       "      <td>44228</td>\n",
       "      <td>103379.0</td>\n",
       "      <td>51250</td>\n",
       "      <td>2170-12-24 04:09:00</td>\n",
       "      <td>88</td>\n",
       "      <td>88.00</td>\n",
       "      <td>fL</td>\n",
       "      <td>NaN</td>\n",
       "    </tr>\n",
       "    <tr>\n",
       "      <th>76070</th>\n",
       "      <td>20452680</td>\n",
       "      <td>44228</td>\n",
       "      <td>103379.0</td>\n",
       "      <td>51265</td>\n",
       "      <td>2170-12-24 04:09:00</td>\n",
       "      <td>595</td>\n",
       "      <td>595.00</td>\n",
       "      <td>K/uL</td>\n",
       "      <td>abnormal</td>\n",
       "    </tr>\n",
       "    <tr>\n",
       "      <th>76071</th>\n",
       "      <td>20452681</td>\n",
       "      <td>44228</td>\n",
       "      <td>103379.0</td>\n",
       "      <td>51277</td>\n",
       "      <td>2170-12-24 04:09:00</td>\n",
       "      <td>14.5</td>\n",
       "      <td>14.50</td>\n",
       "      <td>%</td>\n",
       "      <td>NaN</td>\n",
       "    </tr>\n",
       "    <tr>\n",
       "      <th>76072</th>\n",
       "      <td>20452682</td>\n",
       "      <td>44228</td>\n",
       "      <td>103379.0</td>\n",
       "      <td>51279</td>\n",
       "      <td>2170-12-24 04:09:00</td>\n",
       "      <td>2.76</td>\n",
       "      <td>2.76</td>\n",
       "      <td>m/uL</td>\n",
       "      <td>abnormal</td>\n",
       "    </tr>\n",
       "    <tr>\n",
       "      <th>76073</th>\n",
       "      <td>20452683</td>\n",
       "      <td>44228</td>\n",
       "      <td>103379.0</td>\n",
       "      <td>51301</td>\n",
       "      <td>2170-12-24 04:09:00</td>\n",
       "      <td>16.9</td>\n",
       "      <td>16.90</td>\n",
       "      <td>K/uL</td>\n",
       "      <td>abnormal</td>\n",
       "    </tr>\n",
       "  </tbody>\n",
       "</table>\n",
       "</div>"
      ],
      "text/plain": [
       "         row_id  subject_id   hadm_id  itemid            charttime value  \\\n",
       "76064  20452674       44228  103379.0   51301  2170-12-23 04:36:00  16.8   \n",
       "76065  20452675       44228  103379.0   51221  2170-12-24 04:09:00  24.2   \n",
       "76066  20452676       44228  103379.0   51222  2170-12-24 04:09:00   8.3   \n",
       "76067  20452677       44228  103379.0   51248  2170-12-24 04:09:00  30.2   \n",
       "76068  20452678       44228  103379.0   51249  2170-12-24 04:09:00  34.4   \n",
       "76069  20452679       44228  103379.0   51250  2170-12-24 04:09:00    88   \n",
       "76070  20452680       44228  103379.0   51265  2170-12-24 04:09:00   595   \n",
       "76071  20452681       44228  103379.0   51277  2170-12-24 04:09:00  14.5   \n",
       "76072  20452682       44228  103379.0   51279  2170-12-24 04:09:00  2.76   \n",
       "76073  20452683       44228  103379.0   51301  2170-12-24 04:09:00  16.9   \n",
       "\n",
       "       valuenum valueuom      flag  \n",
       "76064     16.80     K/uL  abnormal  \n",
       "76065     24.20        %  abnormal  \n",
       "76066      8.30     g/dL  abnormal  \n",
       "76067     30.20       pg       NaN  \n",
       "76068     34.40        %       NaN  \n",
       "76069     88.00       fL       NaN  \n",
       "76070    595.00     K/uL  abnormal  \n",
       "76071     14.50        %       NaN  \n",
       "76072      2.76     m/uL  abnormal  \n",
       "76073     16.90     K/uL  abnormal  "
      ]
     },
     "execution_count": 7,
     "metadata": {},
     "output_type": "execute_result"
    }
   ],
   "source": [
    "df =  pd.read_csv('LABEVENTS.csv')\n",
    "df.tail(10)"
   ]
  },
  {
   "cell_type": "code",
   "execution_count": 5,
   "id": "85d7932d",
   "metadata": {},
   "outputs": [
    {
     "name": "stdout",
     "output_type": "stream",
     "text": [
      "<class 'pandas.core.frame.DataFrame'>\n",
      "RangeIndex: 76074 entries, 0 to 76073\n",
      "Data columns (total 9 columns):\n",
      " #   Column      Non-Null Count  Dtype  \n",
      "---  ------      --------------  -----  \n",
      " 0   row_id      76074 non-null  int64  \n",
      " 1   subject_id  76074 non-null  int64  \n",
      " 2   hadm_id     61812 non-null  float64\n",
      " 3   itemid      76074 non-null  int64  \n",
      " 4   charttime   76074 non-null  object \n",
      " 5   value       76069 non-null  object \n",
      " 6   valuenum    67030 non-null  float64\n",
      " 7   valueuom    66669 non-null  object \n",
      " 8   flag        29737 non-null  object \n",
      "dtypes: float64(2), int64(3), object(4)\n",
      "memory usage: 5.2+ MB\n"
     ]
    }
   ],
   "source": [
    "df.info()"
   ]
  },
  {
   "cell_type": "code",
   "execution_count": 9,
   "id": "a4863db7",
   "metadata": {},
   "outputs": [
    {
     "data": {
      "text/plain": [
       "row_id            0\n",
       "subject_id        0\n",
       "hadm_id       14262\n",
       "itemid            0\n",
       "charttime         0\n",
       "value             5\n",
       "valuenum       9044\n",
       "valueuom       9405\n",
       "flag          46337\n",
       "dtype: int64"
      ]
     },
     "execution_count": 9,
     "metadata": {},
     "output_type": "execute_result"
    }
   ],
   "source": [
    "df.isna().sum()"
   ]
  },
  {
   "cell_type": "code",
   "execution_count": 10,
   "id": "be54ca6e",
   "metadata": {},
   "outputs": [
    {
     "name": "stderr",
     "output_type": "stream",
     "text": [
      "C:\\Users\\LEGION\\AppData\\Local\\Temp\\ipykernel_28572\\797406718.py:2: FutureWarning: A value is trying to be set on a copy of a DataFrame or Series through chained assignment using an inplace method.\n",
      "The behavior will change in pandas 3.0. This inplace method will never work because the intermediate object on which we are setting values always behaves as a copy.\n",
      "\n",
      "For example, when doing 'df[col].method(value, inplace=True)', try using 'df.method({col: value}, inplace=True)' or df[col] = df[col].method(value) instead, to perform the operation inplace on the original object.\n",
      "\n",
      "\n",
      "  df['hadm_id'].fillna(-1, inplace=True)\n"
     ]
    }
   ],
   "source": [
    "df['charttime'] = pd.to_datetime(df['charttime'],errors='coerce').dt.strftime('%Y-%m-%d %H:%M:%S')\n",
    "df['hadm_id'].fillna(-1, inplace=True)\n",
    "df['hadm_id'] =df['hadm_id'].astype('int64')\n"
   ]
  },
  {
   "cell_type": "code",
   "execution_count": 11,
   "id": "165db747",
   "metadata": {},
   "outputs": [
    {
     "name": "stderr",
     "output_type": "stream",
     "text": [
      "C:\\Users\\LEGION\\AppData\\Local\\Temp\\ipykernel_28572\\2461630767.py:1: FutureWarning: A value is trying to be set on a copy of a DataFrame or Series through chained assignment using an inplace method.\n",
      "The behavior will change in pandas 3.0. This inplace method will never work because the intermediate object on which we are setting values always behaves as a copy.\n",
      "\n",
      "For example, when doing 'df[col].method(value, inplace=True)', try using 'df.method({col: value}, inplace=True)' or df[col] = df[col].method(value) instead, to perform the operation inplace on the original object.\n",
      "\n",
      "\n",
      "  df['charttime'].fillna('9999-12-31 00:00:00', inplace=True)\n",
      "C:\\Users\\LEGION\\AppData\\Local\\Temp\\ipykernel_28572\\2461630767.py:2: FutureWarning: A value is trying to be set on a copy of a DataFrame or Series through chained assignment using an inplace method.\n",
      "The behavior will change in pandas 3.0. This inplace method will never work because the intermediate object on which we are setting values always behaves as a copy.\n",
      "\n",
      "For example, when doing 'df[col].method(value, inplace=True)', try using 'df.method({col: value}, inplace=True)' or df[col] = df[col].method(value) instead, to perform the operation inplace on the original object.\n",
      "\n",
      "\n",
      "  df['flag'].fillna('Normal', inplace=True)\n",
      "C:\\Users\\LEGION\\AppData\\Local\\Temp\\ipykernel_28572\\2461630767.py:3: FutureWarning: A value is trying to be set on a copy of a DataFrame or Series through chained assignment using an inplace method.\n",
      "The behavior will change in pandas 3.0. This inplace method will never work because the intermediate object on which we are setting values always behaves as a copy.\n",
      "\n",
      "For example, when doing 'df[col].method(value, inplace=True)', try using 'df.method({col: value}, inplace=True)' or df[col] = df[col].method(value) instead, to perform the operation inplace on the original object.\n",
      "\n",
      "\n",
      "  df['valueuom'].fillna('Unknown', inplace=True)\n",
      "C:\\Users\\LEGION\\AppData\\Local\\Temp\\ipykernel_28572\\2461630767.py:5: FutureWarning: A value is trying to be set on a copy of a DataFrame or Series through chained assignment using an inplace method.\n",
      "The behavior will change in pandas 3.0. This inplace method will never work because the intermediate object on which we are setting values always behaves as a copy.\n",
      "\n",
      "For example, when doing 'df[col].method(value, inplace=True)', try using 'df.method({col: value}, inplace=True)' or df[col] = df[col].method(value) instead, to perform the operation inplace on the original object.\n",
      "\n",
      "\n",
      "  df['value'].fillna('Unknown', inplace=True)\n",
      "C:\\Users\\LEGION\\AppData\\Local\\Temp\\ipykernel_28572\\2461630767.py:6: FutureWarning: A value is trying to be set on a copy of a DataFrame or Series through chained assignment using an inplace method.\n",
      "The behavior will change in pandas 3.0. This inplace method will never work because the intermediate object on which we are setting values always behaves as a copy.\n",
      "\n",
      "For example, when doing 'df[col].method(value, inplace=True)', try using 'df.method({col: value}, inplace=True)' or df[col] = df[col].method(value) instead, to perform the operation inplace on the original object.\n",
      "\n",
      "\n",
      "  df['valuenum'].fillna(-1, inplace=True)\n"
     ]
    }
   ],
   "source": [
    "df['charttime'].fillna('9999-12-31 00:00:00', inplace=True)\n",
    "df['flag'].fillna('Normal', inplace=True)\n",
    "df['valueuom'].fillna('Unknown', inplace=True)\n",
    "\n",
    "df['value'].fillna('Unknown', inplace=True)\n",
    "df['valuenum'].fillna(-1, inplace=True)"
   ]
  },
  {
   "cell_type": "code",
   "execution_count": 12,
   "id": "c2ed3e1c",
   "metadata": {},
   "outputs": [
    {
     "name": "stdout",
     "output_type": "stream",
     "text": [
      "<class 'pandas.core.frame.DataFrame'>\n",
      "RangeIndex: 76074 entries, 0 to 76073\n",
      "Data columns (total 9 columns):\n",
      " #   Column      Non-Null Count  Dtype  \n",
      "---  ------      --------------  -----  \n",
      " 0   row_id      76074 non-null  int64  \n",
      " 1   subject_id  76074 non-null  int64  \n",
      " 2   hadm_id     76074 non-null  int64  \n",
      " 3   itemid      76074 non-null  int64  \n",
      " 4   charttime   76074 non-null  object \n",
      " 5   value       76074 non-null  object \n",
      " 6   valuenum    76074 non-null  float64\n",
      " 7   valueuom    76074 non-null  object \n",
      " 8   flag        76074 non-null  object \n",
      "dtypes: float64(1), int64(4), object(4)\n",
      "memory usage: 5.2+ MB\n"
     ]
    }
   ],
   "source": [
    "df.info()"
   ]
  },
  {
   "cell_type": "code",
   "execution_count": 13,
   "id": "62186079",
   "metadata": {},
   "outputs": [
    {
     "data": {
      "text/plain": [
       "row_id        0\n",
       "subject_id    0\n",
       "hadm_id       0\n",
       "itemid        0\n",
       "charttime     0\n",
       "value         0\n",
       "valuenum      0\n",
       "valueuom      0\n",
       "flag          0\n",
       "dtype: int64"
      ]
     },
     "execution_count": 13,
     "metadata": {},
     "output_type": "execute_result"
    }
   ],
   "source": [
    "df.isna().sum()"
   ]
  },
  {
   "cell_type": "code",
   "execution_count": 14,
   "id": "9d5d5489",
   "metadata": {},
   "outputs": [],
   "source": [
    "table = pa.Table.from_pandas(df)\n",
    "pq.write_table(table, 'LABEVENTS.parquet')"
   ]
  },
  {
   "cell_type": "code",
   "execution_count": null,
   "id": "9251ce9f",
   "metadata": {},
   "outputs": [
    {
     "name": "stdout",
     "output_type": "stream",
     "text": [
      "[('row_id', DataType(int64)), ('subject_id', DataType(int64)), ('hadm_id', DataType(int64)), ('itemid', DataType(int64)), ('charttime', DataType(string)), ('value', DataType(string)), ('valuenum', DataType(double)), ('valueuom', DataType(string)), ('flag', DataType(string))]\n"
     ]
    }
   ],
   "source": [
    "parquet_schema = pq.read_table('LABEVENTS.parquet').schema\n",
    "print([(field.name, field.type) for field in parquet_schema])"
   ]
  },
  {
   "cell_type": "code",
   "execution_count": null,
   "id": "1e61e036",
   "metadata": {},
   "outputs": [],
   "source": []
  }
 ],
 "metadata": {
  "kernelspec": {
   "display_name": "Python 3",
   "language": "python",
   "name": "python3"
  },
  "language_info": {
   "codemirror_mode": {
    "name": "ipython",
    "version": 3
   },
   "file_extension": ".py",
   "mimetype": "text/x-python",
   "name": "python",
   "nbconvert_exporter": "python",
   "pygments_lexer": "ipython3",
   "version": "3.13.0"
  }
 },
 "nbformat": 4,
 "nbformat_minor": 5
}
