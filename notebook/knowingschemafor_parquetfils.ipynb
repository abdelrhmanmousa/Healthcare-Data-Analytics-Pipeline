{
 "cells": [
  {
   "cell_type": "code",
   "execution_count": 1,
   "id": "2dcdb2f7",
   "metadata": {},
   "outputs": [
    {
     "name": "stderr",
     "output_type": "stream",
     "text": [
      "<>:3: SyntaxWarning: invalid escape sequence '\\A'\n",
      "<>:3: SyntaxWarning: invalid escape sequence '\\A'\n",
      "C:\\Users\\LEGION\\AppData\\Local\\Temp\\ipykernel_30332\\685035046.py:3: SyntaxWarning: invalid escape sequence '\\A'\n",
      "  parquet_file = pq.ParquetFile(\"parquet_files\\ADMISSIONS.parquet\")\n"
     ]
    },
    {
     "name": "stdout",
     "output_type": "stream",
     "text": [
      "<pyarrow._parquet.ParquetSchema object at 0x00000253AE933080>\n",
      "required group field_id=-1 schema {\n",
      "  optional int64 field_id=-1 row_id;\n",
      "  optional int64 field_id=-1 subject_id;\n",
      "  optional int64 field_id=-1 hadm_id;\n",
      "  optional binary field_id=-1 admittime (String);\n",
      "  optional binary field_id=-1 dischtime (String);\n",
      "  optional binary field_id=-1 deathtime (String);\n",
      "  optional binary field_id=-1 admission_type (String);\n",
      "  optional binary field_id=-1 admission_location (String);\n",
      "  optional binary field_id=-1 discharge_location (String);\n",
      "  optional binary field_id=-1 insurance (String);\n",
      "  optional binary field_id=-1 language (String);\n",
      "  optional binary field_id=-1 religion (String);\n",
      "  optional binary field_id=-1 marital_status (String);\n",
      "  optional binary field_id=-1 ethnicity (String);\n",
      "  optional binary field_id=-1 edregtime (String);\n",
      "  optional binary field_id=-1 edouttime (String);\n",
      "  optional binary field_id=-1 diagnosis (String);\n",
      "  optional boolean field_id=-1 hospital_expire_flag;\n",
      "  optional boolean field_id=-1 has_chartevents_data;\n",
      "}\n",
      "\n"
     ]
    }
   ],
   "source": [
    "import pyarrow.parquet as pq\n",
    "\n",
    "parquet_file = pq.ParquetFile(\"parquet_files\\ADMISSIONS.parquet\")\n",
    "print(parquet_file.schema)\n"
   ]
  },
  {
   "cell_type": "code",
   "execution_count": 2,
   "id": "1d2c05dc",
   "metadata": {},
   "outputs": [
    {
     "name": "stderr",
     "output_type": "stream",
     "text": [
      "<>:3: SyntaxWarning: invalid escape sequence '\\C'\n",
      "<>:3: SyntaxWarning: invalid escape sequence '\\C'\n",
      "C:\\Users\\LEGION\\AppData\\Local\\Temp\\ipykernel_30332\\3396617053.py:3: SyntaxWarning: invalid escape sequence '\\C'\n",
      "  parquet_file = pq.ParquetFile(\"parquet_files\\CALLOUT.parquet\")\n"
     ]
    },
    {
     "name": "stdout",
     "output_type": "stream",
     "text": [
      "<pyarrow._parquet.ParquetSchema object at 0x00000253AE933000>\n",
      "required group field_id=-1 schema {\n",
      "  optional int64 field_id=-1 row_id;\n",
      "  optional int64 field_id=-1 subject_id;\n",
      "  optional int64 field_id=-1 hadm_id;\n",
      "  optional int64 field_id=-1 submit_wardid;\n",
      "  optional int64 field_id=-1 curr_wardid;\n",
      "  optional binary field_id=-1 curr_careunit (String);\n",
      "  optional int64 field_id=-1 callout_wardid;\n",
      "  optional binary field_id=-1 callout_service (String);\n",
      "  optional int64 field_id=-1 request_tele;\n",
      "  optional int64 field_id=-1 request_resp;\n",
      "  optional int64 field_id=-1 request_cdiff;\n",
      "  optional int64 field_id=-1 request_mrsa;\n",
      "  optional int64 field_id=-1 request_vre;\n",
      "  optional binary field_id=-1 callout_status (String);\n",
      "  optional binary field_id=-1 callout_outcome (String);\n",
      "  optional double field_id=-1 discharge_wardid;\n",
      "  optional binary field_id=-1 acknowledge_status (String);\n",
      "  optional binary field_id=-1 createtime (String);\n",
      "  optional binary field_id=-1 updatetime (String);\n",
      "  optional binary field_id=-1 acknowledgetime (String);\n",
      "  optional binary field_id=-1 outcometime (String);\n",
      "  optional binary field_id=-1 firstreservationtime (String);\n",
      "}\n",
      "\n"
     ]
    }
   ],
   "source": [
    "import pyarrow.parquet as pq\n",
    "\n",
    "parquet_file = pq.ParquetFile(\"parquet_files\\CALLOUT.parquet\")\n",
    "print(parquet_file.schema)\n"
   ]
  },
  {
   "cell_type": "code",
   "execution_count": 3,
   "id": "eec16799",
   "metadata": {},
   "outputs": [
    {
     "name": "stdout",
     "output_type": "stream",
     "text": [
      "<pyarrow._parquet.ParquetSchema object at 0x00000253C4BE7880>\n",
      "required group field_id=-1 schema {\n",
      "  optional int64 field_id=-1 row_id;\n",
      "  optional binary field_id=-1 icd9_code (String);\n",
      "  optional binary field_id=-1 short_title (String);\n",
      "  optional binary field_id=-1 long_title (String);\n",
      "}\n",
      "\n"
     ]
    },
    {
     "name": "stderr",
     "output_type": "stream",
     "text": [
      "<>:3: SyntaxWarning: invalid escape sequence '\\D'\n",
      "<>:3: SyntaxWarning: invalid escape sequence '\\D'\n",
      "C:\\Users\\LEGION\\AppData\\Local\\Temp\\ipykernel_30332\\287150049.py:3: SyntaxWarning: invalid escape sequence '\\D'\n",
      "  parquet_file = pq.ParquetFile(\"parquet_files\\D_ICD_DIAGNOSES.parquet\")\n"
     ]
    }
   ],
   "source": [
    "import pyarrow.parquet as pq\n",
    "\n",
    "parquet_file = pq.ParquetFile(\"parquet_files\\D_ICD_DIAGNOSES.parquet\")\n",
    "print(parquet_file.schema)\n"
   ]
  },
  {
   "cell_type": "code",
   "execution_count": 4,
   "id": "05ea07cf",
   "metadata": {},
   "outputs": [
    {
     "name": "stdout",
     "output_type": "stream",
     "text": [
      "<pyarrow._parquet.ParquetSchema object at 0x00000253C4D65580>\n",
      "required group field_id=-1 schema {\n",
      "  optional int64 field_id=-1 row_id;\n",
      "  optional int64 field_id=-1 subject_id;\n",
      "  optional int64 field_id=-1 hadm_id;\n",
      "  optional int64 field_id=-1 seq_num;\n",
      "  optional binary field_id=-1 icd9_code (String);\n",
      "}\n",
      "\n"
     ]
    },
    {
     "name": "stderr",
     "output_type": "stream",
     "text": [
      "<>:3: SyntaxWarning: invalid escape sequence '\\D'\n",
      "<>:3: SyntaxWarning: invalid escape sequence '\\D'\n",
      "C:\\Users\\LEGION\\AppData\\Local\\Temp\\ipykernel_30332\\827639396.py:3: SyntaxWarning: invalid escape sequence '\\D'\n",
      "  parquet_file = pq.ParquetFile(\"parquet_files\\DIAGNOSES_ICD.parquet\")\n"
     ]
    }
   ],
   "source": [
    "import pyarrow.parquet as pq\n",
    "\n",
    "parquet_file = pq.ParquetFile(\"parquet_files\\DIAGNOSES_ICD.parquet\")\n",
    "print(parquet_file.schema)\n"
   ]
  },
  {
   "cell_type": "code",
   "execution_count": 5,
   "id": "3c4eb63d",
   "metadata": {},
   "outputs": [
    {
     "name": "stdout",
     "output_type": "stream",
     "text": [
      "<pyarrow._parquet.ParquetSchema object at 0x00000253C4D67F00>\n",
      "required group field_id=-1 schema {\n",
      "  optional int64 field_id=-1 row_id;\n",
      "  optional int64 field_id=-1 subject_id;\n",
      "  optional int64 field_id=-1 hadm_id;\n",
      "  optional int64 field_id=-1 icustay_id;\n",
      "  optional binary field_id=-1 dbsource (String);\n",
      "  optional binary field_id=-1 first_careunit (String);\n",
      "  optional binary field_id=-1 last_careunit (String);\n",
      "  optional int64 field_id=-1 first_wardid;\n",
      "  optional int64 field_id=-1 last_wardid;\n",
      "  optional binary field_id=-1 intime (String);\n",
      "  optional binary field_id=-1 outtime (String);\n",
      "  optional double field_id=-1 los;\n",
      "}\n",
      "\n"
     ]
    },
    {
     "name": "stderr",
     "output_type": "stream",
     "text": [
      "<>:3: SyntaxWarning: invalid escape sequence '\\I'\n",
      "<>:3: SyntaxWarning: invalid escape sequence '\\I'\n",
      "C:\\Users\\LEGION\\AppData\\Local\\Temp\\ipykernel_30332\\640734800.py:3: SyntaxWarning: invalid escape sequence '\\I'\n",
      "  parquet_file = pq.ParquetFile(\"parquet_files\\ICUSTAYS.parquet\")\n"
     ]
    }
   ],
   "source": [
    "import pyarrow.parquet as pq\n",
    "\n",
    "parquet_file = pq.ParquetFile(\"parquet_files\\ICUSTAYS.parquet\")\n",
    "print(parquet_file.schema)\n"
   ]
  },
  {
   "cell_type": "code",
   "execution_count": 6,
   "id": "3c3413b1",
   "metadata": {},
   "outputs": [
    {
     "name": "stdout",
     "output_type": "stream",
     "text": [
      "<pyarrow._parquet.ParquetSchema object at 0x00000253C4D90BC0>\n",
      "required group field_id=-1 schema {\n",
      "  optional int64 field_id=-1 row_id;\n",
      "  optional int64 field_id=-1 subject_id;\n",
      "  optional int64 field_id=-1 hadm_id;\n",
      "  optional int64 field_id=-1 itemid;\n",
      "  optional binary field_id=-1 charttime (String);\n",
      "  optional binary field_id=-1 value (String);\n",
      "  optional double field_id=-1 valuenum;\n",
      "  optional binary field_id=-1 valueuom (String);\n",
      "  optional binary field_id=-1 flag (String);\n",
      "}\n",
      "\n"
     ]
    },
    {
     "name": "stderr",
     "output_type": "stream",
     "text": [
      "<>:3: SyntaxWarning: invalid escape sequence '\\L'\n",
      "<>:3: SyntaxWarning: invalid escape sequence '\\L'\n",
      "C:\\Users\\LEGION\\AppData\\Local\\Temp\\ipykernel_30332\\4069492794.py:3: SyntaxWarning: invalid escape sequence '\\L'\n",
      "  parquet_file = pq.ParquetFile(\"parquet_files\\LABEVENTS.parquet\")\n"
     ]
    }
   ],
   "source": [
    "import pyarrow.parquet as pq\n",
    "\n",
    "parquet_file = pq.ParquetFile(\"parquet_files\\LABEVENTS.parquet\")\n",
    "print(parquet_file.schema)\n"
   ]
  },
  {
   "cell_type": "code",
   "execution_count": 1,
   "id": "84a83058",
   "metadata": {},
   "outputs": [
    {
     "name": "stderr",
     "output_type": "stream",
     "text": [
      "<>:3: SyntaxWarning: invalid escape sequence '\\P'\n",
      "<>:3: SyntaxWarning: invalid escape sequence '\\P'\n",
      "C:\\Users\\LEGION\\AppData\\Local\\Temp\\ipykernel_3344\\2118232469.py:3: SyntaxWarning: invalid escape sequence '\\P'\n",
      "  parquet_file = pq.ParquetFile(\"parquet_files\\PATIENTS.parquet\")\n"
     ]
    },
    {
     "name": "stdout",
     "output_type": "stream",
     "text": [
      "<pyarrow._parquet.ParquetSchema object at 0x0000017313B06AC0>\n",
      "required group field_id=-1 schema {\n",
      "  optional int64 field_id=-1 row_id;\n",
      "  optional int64 field_id=-1 subject_id;\n",
      "  optional binary field_id=-1 gender (String);\n",
      "  optional binary field_id=-1 dob (String);\n",
      "  optional binary field_id=-1 dod (String);\n",
      "  optional binary field_id=-1 dod_hosp (String);\n",
      "  optional binary field_id=-1 dod_ssn (String);\n",
      "  optional int64 field_id=-1 expire_flag;\n",
      "}\n",
      "\n"
     ]
    }
   ],
   "source": [
    "import pyarrow.parquet as pq\n",
    "\n",
    "parquet_file = pq.ParquetFile(\"parquet_files\\PATIENTS.parquet\")\n",
    "print(parquet_file.schema)"
   ]
  },
  {
   "cell_type": "code",
   "execution_count": null,
   "id": "f012e345",
   "metadata": {},
   "outputs": [],
   "source": []
  }
 ],
 "metadata": {
  "kernelspec": {
   "display_name": "Python 3",
   "language": "python",
   "name": "python3"
  },
  "language_info": {
   "codemirror_mode": {
    "name": "ipython",
    "version": 3
   },
   "file_extension": ".py",
   "mimetype": "text/x-python",
   "name": "python",
   "nbconvert_exporter": "python",
   "pygments_lexer": "ipython3",
   "version": "3.13.0"
  }
 },
 "nbformat": 4,
 "nbformat_minor": 5
}
